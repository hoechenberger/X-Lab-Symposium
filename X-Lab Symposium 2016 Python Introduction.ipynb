{
 "cells": [
  {
   "cell_type": "markdown",
   "metadata": {},
   "source": [
    "# X-Lab Symposium 2016: Python Introduction\n",
    "\n",
    "## What is Python, anyway?\n",
    "\n",
    "* Python is a high-level, general-purpose programming language.\n",
    "* It is also the name of the Python interpreter.\n",
    "* Created by Guido von Rossum, work started back in the late 1980s!\n",
    "* First released in 1991.\n",
    "* Guido is now *BDFL* (benevolent dictator for life).\n",
    "![Ada](Figures/Ada.png)"
   ]
  },
  {
   "cell_type": "markdown",
   "metadata": {},
   "source": [
    "## The Zen of Python"
   ]
  },
  {
   "cell_type": "code",
   "execution_count": 1,
   "metadata": {
    "collapsed": false
   },
   "outputs": [
    {
     "name": "stdout",
     "output_type": "stream",
     "text": [
      "The Zen of Python, by Tim Peters\n",
      "\n",
      "Beautiful is better than ugly.\n",
      "Explicit is better than implicit.\n",
      "Simple is better than complex.\n",
      "Complex is better than complicated.\n",
      "Flat is better than nested.\n",
      "Sparse is better than dense.\n",
      "Readability counts.\n",
      "Special cases aren't special enough to break the rules.\n",
      "Although practicality beats purity.\n",
      "Errors should never pass silently.\n",
      "Unless explicitly silenced.\n",
      "In the face of ambiguity, refuse the temptation to guess.\n",
      "There should be one-- and preferably only one --obvious way to do it.\n",
      "Although that way may not be obvious at first unless you're Dutch.\n",
      "Now is better than never.\n",
      "Although never is often better than *right* now.\n",
      "If the implementation is hard to explain, it's a bad idea.\n",
      "If the implementation is easy to explain, it may be a good idea.\n",
      "Namespaces are one honking great idea -- let's do more of those!\n"
     ]
    }
   ],
   "source": [
    "import this"
   ]
  },
  {
   "cell_type": "markdown",
   "metadata": {},
   "source": [
    "* \"To describe something as clever is not considered a compliment in the Python culture.\" (Alex Martelli)\n",
    "* Code that follows these guidelines and common Python idioms is often referred to as being *pythonic*."
   ]
  },
  {
   "cell_type": "markdown",
   "metadata": {},
   "source": [
    "## Why you should use Python in Science\n",
    "![Author Count](Figures/Author Count.png)\n",
    "\n",
    "## Why you may *not* want to use Python in Science"
   ]
  },
  {
   "cell_type": "markdown",
   "metadata": {},
   "source": [
    "## Getting Python\n",
    "Often, people would go to [python.org](https://www.python.org/) and fetch a Python installation package from there. The problem with this approach is that this will only get you the very, very essential core components of the Python environment, or actually, no \"real\" environment at all!\n",
    "\n",
    "For scientific use, you will most likely want to install the [Anaconda Python](https://www.continuum.io/downloads) distribution, which ships with almost everything you will need when working with Python. We will be working with **32-bit Python 2.7**.\n",
    "\n",
    "## Starting Python\n",
    "For interactive exploration of Python, we will be using the [Jupyter Notebook](http://jupyter.org/), which comes with Anaconda. To run it, either execute `jupyter notebook` from a terminal, or use the respective icon in your Start menu or application folder."
   ]
  },
  {
   "cell_type": "markdown",
   "metadata": {},
   "source": [
    "## Python 101\n",
    "\n",
    "### Simple Maths"
   ]
  },
  {
   "cell_type": "code",
   "execution_count": 86,
   "metadata": {
    "collapsed": false
   },
   "outputs": [
    {
     "data": {
      "text/plain": [
       "2"
      ]
     },
     "execution_count": 86,
     "metadata": {},
     "output_type": "execute_result"
    }
   ],
   "source": [
    "1 + 1"
   ]
  },
  {
   "cell_type": "code",
   "execution_count": 80,
   "metadata": {
    "collapsed": false
   },
   "outputs": [
    {
     "data": {
      "text/plain": [
       "1"
      ]
     },
     "execution_count": 80,
     "metadata": {},
     "output_type": "execute_result"
    }
   ],
   "source": [
    "a = 2\n",
    "a = a - 1\n",
    "a"
   ]
  },
  {
   "cell_type": "code",
   "execution_count": 81,
   "metadata": {
    "collapsed": false
   },
   "outputs": [
    {
     "data": {
      "text/plain": [
       "1"
      ]
     },
     "execution_count": 81,
     "metadata": {},
     "output_type": "execute_result"
    }
   ],
   "source": [
    "a = 2\n",
    "a -= 1\n",
    "a"
   ]
  },
  {
   "cell_type": "markdown",
   "metadata": {},
   "source": [
    "### Lists\n",
    "Lists are a very basic Python data type, somewhat similar to a vector or a one-dimensional matrix in other languages.\n",
    "\n",
    "#### List creation"
   ]
  },
  {
   "cell_type": "code",
   "execution_count": 48,
   "metadata": {
    "collapsed": false
   },
   "outputs": [
    {
     "data": {
      "text/plain": [
       "[1, 2, 3, 4]"
      ]
     },
     "execution_count": 48,
     "metadata": {},
     "output_type": "execute_result"
    }
   ],
   "source": [
    "l = [1, 2, 3, 4]\n",
    "l"
   ]
  },
  {
   "cell_type": "markdown",
   "metadata": {},
   "source": [
    "#### List indexing"
   ]
  },
  {
   "cell_type": "code",
   "execution_count": 43,
   "metadata": {
    "collapsed": false
   },
   "outputs": [
    {
     "data": {
      "text/plain": [
       "1"
      ]
     },
     "execution_count": 43,
     "metadata": {},
     "output_type": "execute_result"
    }
   ],
   "source": [
    "l[0]  # Python indexing is 0-based!"
   ]
  },
  {
   "cell_type": "code",
   "execution_count": 44,
   "metadata": {
    "collapsed": false
   },
   "outputs": [
    {
     "data": {
      "text/plain": [
       "2"
      ]
     },
     "execution_count": 44,
     "metadata": {},
     "output_type": "execute_result"
    }
   ],
   "source": [
    "l[1]  # Second element in the list."
   ]
  },
  {
   "cell_type": "code",
   "execution_count": 45,
   "metadata": {
    "collapsed": false
   },
   "outputs": [
    {
     "data": {
      "text/plain": [
       "4"
      ]
     },
     "execution_count": 45,
     "metadata": {},
     "output_type": "execute_result"
    }
   ],
   "source": [
    "l[-1]  # Last element in the list. Indices \"wrap around\"."
   ]
  },
  {
   "cell_type": "markdown",
   "metadata": {},
   "source": [
    "#### Changing the value of a list element"
   ]
  },
  {
   "cell_type": "code",
   "execution_count": 49,
   "metadata": {
    "collapsed": false
   },
   "outputs": [
    {
     "data": {
      "text/plain": [
       "[1, 2, 3, 9]"
      ]
     },
     "execution_count": 49,
     "metadata": {},
     "output_type": "execute_result"
    }
   ],
   "source": [
    "l[-1] = 9\n",
    "l"
   ]
  },
  {
   "cell_type": "markdown",
   "metadata": {},
   "source": [
    "#### Creating a list of a sequence of integers"
   ]
  },
  {
   "cell_type": "code",
   "execution_count": 50,
   "metadata": {
    "collapsed": false
   },
   "outputs": [
    {
     "data": {
      "text/plain": [
       "[0, 1, 2, 3, 4, 5, 6, 7, 8, 9]"
      ]
     },
     "execution_count": 50,
     "metadata": {},
     "output_type": "execute_result"
    }
   ],
   "source": [
    "range(10)"
   ]
  },
  {
   "cell_type": "code",
   "execution_count": 52,
   "metadata": {
    "collapsed": false
   },
   "outputs": [
    {
     "data": {
      "text/plain": [
       "[1, 2, 3, 4, 5, 6, 7, 8, 9]"
      ]
     },
     "execution_count": 52,
     "metadata": {},
     "output_type": "execute_result"
    }
   ],
   "source": [
    "range(1, 10)"
   ]
  },
  {
   "cell_type": "markdown",
   "metadata": {},
   "source": [
    "#### Extending a list"
   ]
  },
  {
   "cell_type": "code",
   "execution_count": 117,
   "metadata": {
    "collapsed": false
   },
   "outputs": [
    {
     "data": {
      "text/plain": [
       "[1, 2, 3, 4]"
      ]
     },
     "execution_count": 117,
     "metadata": {},
     "output_type": "execute_result"
    }
   ],
   "source": [
    "l = [1, 2, 3]\n",
    "l.append(4)\n",
    "l"
   ]
  },
  {
   "cell_type": "code",
   "execution_count": 118,
   "metadata": {
    "collapsed": false
   },
   "outputs": [
    {
     "data": {
      "text/plain": [
       "[1, 2, 3, [4, 5, 6]]"
      ]
     },
     "execution_count": 118,
     "metadata": {},
     "output_type": "execute_result"
    }
   ],
   "source": [
    "l1 = [1, 2, 3]\n",
    "l2 = [4, 5, 6]\n",
    "\n",
    "l1.append(l2)\n",
    "l1"
   ]
  },
  {
   "cell_type": "code",
   "execution_count": 119,
   "metadata": {
    "collapsed": false
   },
   "outputs": [
    {
     "data": {
      "text/plain": [
       "[1, 2, 3, 4, 5, 6]"
      ]
     },
     "execution_count": 119,
     "metadata": {},
     "output_type": "execute_result"
    }
   ],
   "source": [
    "l1 = [1, 2, 3]\n",
    "l2 = [4, 5, 6]\n",
    "\n",
    "l1.extend(l2)\n",
    "l1"
   ]
  },
  {
   "cell_type": "markdown",
   "metadata": {},
   "source": [
    "### Tuples\n",
    "Tuples are like lists, but they are *immutable*."
   ]
  },
  {
   "cell_type": "code",
   "execution_count": 82,
   "metadata": {
    "collapsed": true
   },
   "outputs": [],
   "source": [
    "l = [1, 2, 3]  # list\n",
    "t = (1, 2, 3)  # tuple"
   ]
  },
  {
   "cell_type": "code",
   "execution_count": 84,
   "metadata": {
    "collapsed": false
   },
   "outputs": [
    {
     "data": {
      "text/plain": [
       "[10, 2, 3]"
      ]
     },
     "execution_count": 84,
     "metadata": {},
     "output_type": "execute_result"
    }
   ],
   "source": [
    "l[0] = 10\n",
    "l"
   ]
  },
  {
   "cell_type": "code",
   "execution_count": 85,
   "metadata": {
    "collapsed": false
   },
   "outputs": [
    {
     "ename": "TypeError",
     "evalue": "'tuple' object does not support item assignment",
     "output_type": "error",
     "traceback": [
      "\u001b[1;31m---------------------------------------------------------------------------\u001b[0m",
      "\u001b[1;31mTypeError\u001b[0m                                 Traceback (most recent call last)",
      "\u001b[1;32m<ipython-input-85-eaf187d38884>\u001b[0m in \u001b[0;36m<module>\u001b[1;34m()\u001b[0m\n\u001b[1;32m----> 1\u001b[1;33m \u001b[0mt\u001b[0m\u001b[1;33m[\u001b[0m\u001b[1;36m0\u001b[0m\u001b[1;33m]\u001b[0m \u001b[1;33m=\u001b[0m \u001b[1;36m10\u001b[0m\u001b[1;33m\u001b[0m\u001b[0m\n\u001b[0m",
      "\u001b[1;31mTypeError\u001b[0m: 'tuple' object does not support item assignment"
     ]
    }
   ],
   "source": [
    "t[0] = 10"
   ]
  },
  {
   "cell_type": "markdown",
   "metadata": {},
   "source": [
    "### Dictionaries (\"dicts\")"
   ]
  },
  {
   "cell_type": "code",
   "execution_count": 114,
   "metadata": {
    "collapsed": false
   },
   "outputs": [
    {
     "data": {
      "text/plain": [
       "1"
      ]
     },
     "execution_count": 114,
     "metadata": {},
     "output_type": "execute_result"
    }
   ],
   "source": [
    "d = {'foo': 1, 'bar': 2}\n",
    "d['foo']"
   ]
  },
  {
   "cell_type": "code",
   "execution_count": 115,
   "metadata": {
    "collapsed": false
   },
   "outputs": [
    {
     "data": {
      "text/plain": [
       "1"
      ]
     },
     "execution_count": 115,
     "metadata": {},
     "output_type": "execute_result"
    }
   ],
   "source": [
    "d = dict(foo=1, bar=2)\n",
    "d['foo']"
   ]
  },
  {
   "cell_type": "markdown",
   "metadata": {},
   "source": [
    "### Printing output"
   ]
  },
  {
   "cell_type": "code",
   "execution_count": 53,
   "metadata": {
    "collapsed": false
   },
   "outputs": [
    {
     "name": "stdout",
     "output_type": "stream",
     "text": [
      "Hello World!\n"
     ]
    }
   ],
   "source": [
    "print 'Hello World!'  # Python 2.7"
   ]
  },
  {
   "cell_type": "code",
   "execution_count": 54,
   "metadata": {
    "collapsed": false
   },
   "outputs": [
    {
     "name": "stdout",
     "output_type": "stream",
     "text": [
      "Hello World!\n"
     ]
    }
   ],
   "source": [
    "# Better, and more future-proof:\n",
    "from __future__ import print_function\n",
    "\n",
    "print('Hello World!')"
   ]
  },
  {
   "cell_type": "code",
   "execution_count": 63,
   "metadata": {
    "collapsed": false
   },
   "outputs": [
    {
     "name": "stdout",
     "output_type": "stream",
     "text": [
      "Hello World!\n"
     ]
    }
   ],
   "source": [
    "hello_string = 'Hello'\n",
    "world_string = 'World'\n",
    "\n",
    "print('{0} {1}!'\n",
    "      .format(hello_string, world_string))"
   ]
  },
  {
   "cell_type": "code",
   "execution_count": 65,
   "metadata": {
    "collapsed": false
   },
   "outputs": [
    {
     "name": "stdout",
     "output_type": "stream",
     "text": [
      "Hello World!\n"
     ]
    }
   ],
   "source": [
    "print('{hello} {world}!'\n",
    "      .format(hello=hello_string, world=world_string))"
   ]
  },
  {
   "cell_type": "markdown",
   "metadata": {},
   "source": [
    "### `if` statements and Booleans"
   ]
  },
  {
   "cell_type": "code",
   "execution_count": 67,
   "metadata": {
    "collapsed": false
   },
   "outputs": [
    {
     "name": "stdout",
     "output_type": "stream",
     "text": [
      "a is True\n",
      "b is False\n",
      "This message reflects my lack of creativity.\n"
     ]
    }
   ],
   "source": [
    "a = True\n",
    "b = False\n",
    "\n",
    "# Simple.\n",
    "if a:\n",
    "    print('a is True')\n",
    "\n",
    "# A little more complex.\n",
    "if b:\n",
    "    print('b is True')\n",
    "else:\n",
    "    print('b is False')\n",
    "\n",
    "# Heeere we go.\n",
    "if not a:\n",
    "    print('a is not True')\n",
    "elif b and not a:\n",
    "    print('b is True, a is not')\n",
    "else:\n",
    "    print('This message reflects my lack of creativity.')"
   ]
  },
  {
   "cell_type": "markdown",
   "metadata": {},
   "source": [
    "### Fancy loops!\n",
    "\n",
    "#### `for` loops"
   ]
  },
  {
   "cell_type": "code",
   "execution_count": 117,
   "metadata": {
    "collapsed": false
   },
   "outputs": [
    {
     "name": "stdout",
     "output_type": "stream",
     "text": [
      "Currently processing participant 1\n",
      "Currently processing participant 3\n",
      "Currently processing participant 5\n",
      "Currently processing participant 9\n",
      "Currently processing participant 10\n"
     ]
    }
   ],
   "source": [
    "participants = [1, 3, 5, 9, 10]\n",
    "\n",
    "for participant in participants:\n",
    "    print('Currently processing participant {p}'\n",
    "          .format(p=participant))\n"
   ]
  },
  {
   "cell_type": "code",
   "execution_count": 118,
   "metadata": {
    "collapsed": false
   },
   "outputs": [
    {
     "name": "stdout",
     "output_type": "stream",
     "text": [
      "Loop 0: Currently processing participant 1\n",
      "Loop 1: Currently processing participant 3\n",
      "Loop 2: Currently processing participant 5\n",
      "Loop 3: Currently processing participant 9\n",
      "Loop 4: Currently processing participant 10\n"
     ]
    }
   ],
   "source": [
    "for iteration, participant in enumerate(participants):\n",
    "    print('Loop {i}: Currently processing participant {p}'\n",
    "          .format(i=iteration, p=participant))\n"
   ]
  },
  {
   "cell_type": "code",
   "execution_count": 119,
   "metadata": {
    "collapsed": false
   },
   "outputs": [
    {
     "name": "stdout",
     "output_type": "stream",
     "text": [
      "Loop 1: Currently processing participant 1\n",
      "Loop 2: Currently processing participant 3\n",
      "Loop 3: Currently processing participant 5\n",
      "Loop 4: Currently processing participant 9\n",
      "Loop 5: Currently processing participant 10\n"
     ]
    }
   ],
   "source": [
    "for iteration, participant in enumerate(participants, start=1):\n",
    "    print('Loop {i}: Currently processing participant {p}'\n",
    "          .format(i=iteration, p=participant))\n"
   ]
  },
  {
   "cell_type": "markdown",
   "metadata": {},
   "source": [
    "#### `while` loops"
   ]
  },
  {
   "cell_type": "code",
   "execution_count": 73,
   "metadata": {
    "collapsed": false
   },
   "outputs": [
    {
     "name": "stdout",
     "output_type": "stream",
     "text": [
      "Current value of a: 10\n",
      "Current value of a: 9\n",
      "Current value of a: 8\n",
      "Current value of a: 7\n",
      "Current value of a: 6\n",
      "Current value of a: 5\n",
      "Current value of a: 4\n",
      "Current value of a: 3\n",
      "Current value of a: 2\n",
      "Current value of a: 1\n",
      "Current value of a: 0\n"
     ]
    }
   ],
   "source": [
    "a = 10\n",
    "\n",
    "while a >= 0:\n",
    "    print('Current value of a: {a}'\n",
    "          .format(a=a))\n",
    "    a -= 1\n"
   ]
  },
  {
   "cell_type": "code",
   "execution_count": 77,
   "metadata": {
    "collapsed": false,
    "scrolled": true
   },
   "outputs": [
    {
     "name": "stdout",
     "output_type": "stream",
     "text": [
      "Current value of a: 10\n",
      "Current value of a: 9\n",
      "Current value of a: 8\n",
      "Current value of a: 7\n",
      "Current value of a: 6\n",
      "Current value of a: 5\n",
      "Current value of a: 4\n",
      "Current value of a: 3\n",
      "Current value of a: 2\n",
      "Current value of a: 1\n",
      "Current value of a: 0\n"
     ]
    }
   ],
   "source": [
    "a = 10\n",
    "\n",
    "while True:  # Loop infinitely.\n",
    "    print('Current value of a: {a}'\n",
    "          .format(a=a))\n",
    "    a -= 1\n",
    "    \n",
    "    if a < 0:\n",
    "        break  # Exit the loop.\n",
    "    else:\n",
    "        pass  # Keep on looping! This statement is actually totally superfluous here... Oh well!"
   ]
  },
  {
   "cell_type": "markdown",
   "metadata": {},
   "source": [
    "### Simple Functions"
   ]
  },
  {
   "cell_type": "code",
   "execution_count": 23,
   "metadata": {
    "collapsed": true
   },
   "outputs": [],
   "source": [
    "def f(x, y):\n",
    "    result = x * y\n",
    "    return result"
   ]
  },
  {
   "cell_type": "code",
   "execution_count": 24,
   "metadata": {
    "collapsed": false
   },
   "outputs": [
    {
     "data": {
      "text/plain": [
       "6"
      ]
     },
     "execution_count": 24,
     "metadata": {},
     "output_type": "execute_result"
    }
   ],
   "source": [
    "f(2, 3)"
   ]
  },
  {
   "cell_type": "code",
   "execution_count": 27,
   "metadata": {
    "collapsed": false
   },
   "outputs": [
    {
     "data": {
      "text/plain": [
       "6"
      ]
     },
     "execution_count": 27,
     "metadata": {},
     "output_type": "execute_result"
    }
   ],
   "source": [
    "f(x=2, y=3)"
   ]
  },
  {
   "cell_type": "code",
   "execution_count": 28,
   "metadata": {
    "collapsed": false
   },
   "outputs": [
    {
     "data": {
      "text/plain": [
       "6"
      ]
     },
     "execution_count": 28,
     "metadata": {},
     "output_type": "execute_result"
    }
   ],
   "source": [
    "f(y=3, x=2)"
   ]
  },
  {
   "cell_type": "code",
   "execution_count": 29,
   "metadata": {
    "collapsed": false
   },
   "outputs": [
    {
     "ename": "TypeError",
     "evalue": "f() takes exactly 2 arguments (1 given)",
     "output_type": "error",
     "traceback": [
      "\u001b[1;31m---------------------------------------------------------------------------\u001b[0m",
      "\u001b[1;31mTypeError\u001b[0m                                 Traceback (most recent call last)",
      "\u001b[1;32m<ipython-input-29-c4c40f0369fc>\u001b[0m in \u001b[0;36m<module>\u001b[1;34m()\u001b[0m\n\u001b[1;32m----> 1\u001b[1;33m \u001b[0mf\u001b[0m\u001b[1;33m(\u001b[0m\u001b[0mx\u001b[0m\u001b[1;33m=\u001b[0m\u001b[1;36m1\u001b[0m\u001b[1;33m)\u001b[0m\u001b[1;33m\u001b[0m\u001b[0m\n\u001b[0m",
      "\u001b[1;31mTypeError\u001b[0m: f() takes exactly 2 arguments (1 given)"
     ]
    }
   ],
   "source": [
    "f(x=1)"
   ]
  },
  {
   "cell_type": "markdown",
   "metadata": {},
   "source": [
    "### Simple Functions with Optional (Keyword) Arguments"
   ]
  },
  {
   "cell_type": "code",
   "execution_count": 33,
   "metadata": {
    "collapsed": true
   },
   "outputs": [],
   "source": [
    "def f2(x=2, y=3):\n",
    "    result = x * y\n",
    "    return result"
   ]
  },
  {
   "cell_type": "code",
   "execution_count": 34,
   "metadata": {
    "collapsed": false
   },
   "outputs": [
    {
     "data": {
      "text/plain": [
       "3"
      ]
     },
     "execution_count": 34,
     "metadata": {},
     "output_type": "execute_result"
    }
   ],
   "source": [
    "f2(x=1)"
   ]
  },
  {
   "cell_type": "markdown",
   "metadata": {},
   "source": [
    "### Simple OOP Example"
   ]
  },
  {
   "cell_type": "code",
   "execution_count": 112,
   "metadata": {
    "collapsed": false
   },
   "outputs": [
    {
     "data": {
      "text/plain": [
       "[<__main__.Participant at 0x49eb370>, <__main__.Participant at 0x49eb3f0>]"
      ]
     },
     "execution_count": 112,
     "metadata": {},
     "output_type": "execute_result"
    }
   ],
   "source": [
    "class Participant(object):  # So-called new-style classes always inherit from 'object'.\n",
    "    def __init__(self, id=None, age=None, handedness=None, gender=None):\n",
    "        self.id = id\n",
    "        self.age = age\n",
    "        self.handedness = handedness\n",
    "        self.gender = gender\n",
    "\n",
    "p1 = Participant(id=1, age=27, handedness='left', gender='female')\n",
    "p2 = Participant(id=2, age=22, handedness='right', gender='male')\n",
    "\n",
    "participants = [p1, p2]\n",
    "participants\n"
   ]
  },
  {
   "cell_type": "code",
   "execution_count": 113,
   "metadata": {
    "collapsed": false,
    "scrolled": true
   },
   "outputs": [
    {
     "name": "stdout",
     "output_type": "stream",
     "text": [
      "27\n",
      "22\n"
     ]
    }
   ],
   "source": [
    "for participant in participants:\n",
    "    print(participant.age)"
   ]
  },
  {
   "cell_type": "markdown",
   "metadata": {},
   "source": [
    "### Modules, packages, and namespaces\n",
    "* A Python *module* is a single Python file that commonly contains one or more functions.\n",
    "* A Python *package* is a set of one or more modules placed in a dedicated directory, together with an `__init__.py` file (which magically turns that directory into a package root)\n",
    "\n",
    "To use a package or module, you have to `import` them first."
   ]
  },
  {
   "cell_type": "code",
   "execution_count": 100,
   "metadata": {
    "collapsed": true
   },
   "outputs": [],
   "source": [
    "import numpy"
   ]
  },
  {
   "cell_type": "code",
   "execution_count": 103,
   "metadata": {
    "collapsed": false
   },
   "outputs": [
    {
     "data": {
      "text/plain": [
       "array([1, 2, 3])"
      ]
     },
     "execution_count": 103,
     "metadata": {},
     "output_type": "execute_result"
    }
   ],
   "source": [
    "a = numpy.array([1, 2, 3])\n",
    "a"
   ]
  },
  {
   "cell_type": "code",
   "execution_count": 104,
   "metadata": {
    "collapsed": true
   },
   "outputs": [],
   "source": [
    "import numpy as np  # \"Standard\" import for NumPy.\n",
    "\n",
    "a = np.array([1, 2, 3])\n",
    "a"
   ]
  },
  {
   "cell_type": "code",
   "execution_count": 106,
   "metadata": {
    "collapsed": false
   },
   "outputs": [
    {
     "data": {
      "text/plain": [
       "array([1, 2, 3])"
      ]
     },
     "execution_count": 106,
     "metadata": {},
     "output_type": "execute_result"
    }
   ],
   "source": [
    "from numpy import array  # Also works, but generally discouraged.\n",
    "\n",
    "a = array([1, 2, 3])\n",
    "a"
   ]
  },
  {
   "cell_type": "markdown",
   "metadata": {},
   "source": [
    "Unlike Matlab, Python `import`s typically do not clutter the global namespace, and if they do, you can easily figure out where a specific function or object came from (by finding the `from foo import bar` line)."
   ]
  },
  {
   "cell_type": "markdown",
   "metadata": {},
   "source": [
    "### Basic Plotting"
   ]
  },
  {
   "cell_type": "code",
   "execution_count": 126,
   "metadata": {
    "collapsed": true
   },
   "outputs": [],
   "source": [
    "%matplotlib inline"
   ]
  },
  {
   "cell_type": "code",
   "execution_count": 131,
   "metadata": {
    "collapsed": false
   },
   "outputs": [
    {
     "data": {
      "text/plain": [
       "<matplotlib.text.Text at 0x7f20050>"
      ]
     },
     "execution_count": 131,
     "metadata": {},
     "output_type": "execute_result"
    },
    {
     "data": {
      "image/png": "[encoded data removed]",
      "text/plain": [
       "<matplotlib.figure.Figure at 0x813c770>"
      ]
     },
     "metadata": {},
     "output_type": "display_data"
    }
   ],
   "source": [
    "import numpy as np\n",
    "import matplotlib.pyplot as plt\n",
    "\n",
    "x = np.linspace(start=0, stop=50, num=5000)\n",
    "y = np.sin(x)\n",
    "\n",
    "plt.plot(x, y, linewidth=2, color='red')\n",
    "plt.grid()\n",
    "plt.xlabel('x')\n",
    "plt.ylabel('y')\n",
    "plt.title('Simple Plot')"
   ]
  },
  {
   "cell_type": "markdown",
   "metadata": {},
   "source": [
    "## PsychoPy Code Introduction"
   ]
  },
  {
   "cell_type": "code",
   "execution_count": 1,
   "metadata": {
    "collapsed": true
   },
   "outputs": [],
   "source": [
    "from psychopy import core, data, event, gui, visual"
   ]
  },
  {
   "cell_type": "code",
   "execution_count": 2,
   "metadata": {
    "collapsed": false
   },
   "outputs": [
    {
     "name": "stdout",
     "output_type": "stream",
     "text": [
      "{'date': u'2016-09-04_1804', 'age': 30, 'handedness': 'right', 'participant': '001'}\n"
     ]
    }
   ],
   "source": [
    "exp_info = dict(participant='001', age=30, handedness=['right', 'left', 'both'],\n",
    "                date=data.getDateStr(format='%Y-%m-%d_%H%M'))\n",
    "\n",
    "r = gui.DlgFromDict(exp_info)\n",
    "if not r.OK:\n",
    "    raise RuntimeError('Info dialog canceled.')\n",
    "\n",
    "print(exp_info)"
   ]
  },
  {
   "cell_type": "code",
   "execution_count": 3,
   "metadata": {
    "collapsed": false
   },
   "outputs": [
    {
     "name": "stdout",
     "output_type": "stream",
     "text": [
      "OrderedDict([('participant', '001'), ('age', 30), ('handedness', 'right'), ('date', u'2016-09-04_1804')])\n"
     ]
    }
   ],
   "source": [
    "from collections import OrderedDict\n",
    "\n",
    "exp_info = OrderedDict()\n",
    "exp_info['participant'] = '001'\n",
    "exp_info['age'] = 30\n",
    "exp_info['handedness'] = ['right', 'left', 'both']\n",
    "exp_info['date'] = data.getDateStr(format='%Y-%m-%d_%H%M') \n",
    "\n",
    "r = gui.DlgFromDict(exp_info, order=exp_info.keys())\n",
    "if not r.OK:\n",
    "    raise RuntimeError('Info dialog canceled.')\n",
    "\n",
    "print(exp_info)"
   ]
  },
  {
   "cell_type": "code",
   "execution_count": 4,
   "metadata": {
    "collapsed": false
   },
   "outputs": [],
   "source": [
    "import os\n",
    "\n",
    "base_dir =  os.path.normpath('D:/Projects/X-Lab Symposium')\n",
    "stimulus_dir = os.path.join(base_dir, 'Stimuli')\n",
    "data_dir = os.path.join(base_dir, 'Data')\n",
    "\n",
    "conditions_file = os.path.join(base_dir, 'conditions.xlsx')\n",
    "outfile = os.path.join(\n",
    "    data_dir,\n",
    "    '{participant}_{date}'.format(participant=exp_info['participant'], date=exp_info['date']))"
   ]
  },
  {
   "cell_type": "markdown",
   "metadata": {},
   "source": [
    "### Define experimental conditions & trials"
   ]
  },
  {
   "cell_type": "code",
   "execution_count": 5,
   "metadata": {
    "collapsed": true
   },
   "outputs": [],
   "source": [
    "conditions = [\n",
    "    dict(condition=1, ori=1),\n",
    "    dict(condition=2, ori=3)\n",
    "]"
   ]
  },
  {
   "cell_type": "code",
   "execution_count": 6,
   "metadata": {
    "collapsed": false
   },
   "outputs": [
    {
     "name": "stderr",
     "output_type": "stream",
     "text": [
      "C:\\Users\\hoechenberger\\Anaconda32\\lib\\site-packages\\openpyxl\\worksheet\\worksheet.py:377: UserWarning: Call to deprecated function or class get_highest_column (Use the max_column propery.).\n",
      "  def get_highest_column(self):\n",
      "C:\\Users\\hoechenberger\\Anaconda32\\lib\\site-packages\\openpyxl\\worksheet\\worksheet.py:350: UserWarning: Call to deprecated function or class get_highest_row (Use the max_row property).\n",
      "  def get_highest_row(self):\n"
     ]
    }
   ],
   "source": [
    "conditions = data.importConditions(conditions_file)"
   ]
  },
  {
   "cell_type": "code",
   "execution_count": 7,
   "metadata": {
    "collapsed": false
   },
   "outputs": [
    {
     "data": {
      "text/plain": [
       "[{u'correct_response': u'm', u'pic': u'0064.jpg', u'type': u'human'},\n",
       " {u'correct_response': u'x', u'pic': u'0085.jpg', u'type': u'scene'},\n",
       " {u'correct_response': u'm', u'pic': u'0035.jpg', u'type': u'human'},\n",
       " {u'correct_response': u'x', u'pic': u'0076.jpg', u'type': u'scene'},\n",
       " {u'correct_response': u'm', u'pic': u'0034.jpg', u'type': u'human'},\n",
       " {u'correct_response': u'x', u'pic': u'0066.jpg', u'type': u'scene'},\n",
       " {u'correct_response': u'm', u'pic': u'0041.jpg', u'type': u'human'},\n",
       " {u'correct_response': u'x', u'pic': u'0038.jpg', u'type': u'scene'},\n",
       " {u'correct_response': u'm', u'pic': u'0055.jpg', u'type': u'human'},\n",
       " {u'correct_response': u'x', u'pic': u'0063.jpg', u'type': u'scene'}]"
      ]
     },
     "execution_count": 7,
     "metadata": {},
     "output_type": "execute_result"
    }
   ],
   "source": [
    "conditions"
   ]
  },
  {
   "cell_type": "code",
   "execution_count": 8,
   "metadata": {
    "collapsed": false
   },
   "outputs": [],
   "source": [
    "trials = data.TrialHandler(conditions, nReps=5, extraInfo=exp_info)"
   ]
  },
  {
   "cell_type": "markdown",
   "metadata": {},
   "source": [
    "### Create a window"
   ]
  },
  {
   "cell_type": "code",
   "execution_count": 9,
   "metadata": {
    "collapsed": false,
    "scrolled": true
   },
   "outputs": [],
   "source": [
    "win = visual.Window(fullscr=False, allowGUI=True, pos=(1400, 500))\n",
    "# win = visual.Window(fullscr=True)"
   ]
  },
  {
   "cell_type": "markdown",
   "metadata": {},
   "source": [
    "### Define stimuli"
   ]
  },
  {
   "cell_type": "code",
   "execution_count": 10,
   "metadata": {
    "collapsed": true
   },
   "outputs": [],
   "source": [
    "fixation = visual.TextStim(win, text='+')\n",
    "image = visual.ImageStim(win)"
   ]
  },
  {
   "cell_type": "markdown",
   "metadata": {},
   "source": [
    "### Trial clock"
   ]
  },
  {
   "cell_type": "code",
   "execution_count": 11,
   "metadata": {
    "collapsed": true
   },
   "outputs": [],
   "source": [
    "clock = core.Clock()"
   ]
  },
  {
   "cell_type": "markdown",
   "metadata": {},
   "source": [
    "### The actual trial"
   ]
  },
  {
   "cell_type": "code",
   "execution_count": 12,
   "metadata": {
    "collapsed": false,
    "scrolled": true
   },
   "outputs": [
    {
     "name": "stderr",
     "output_type": "stream",
     "text": [
      "d:\\development\\psychopy\\psychopy\\data.py:1403: FutureWarning: convert_objects is deprecated.  Use the data-type specific converters pd.to_datetime, pd.to_timedelta and pd.to_numeric.\n",
      "  df = df.convert_objects()\n"
     ]
    },
    {
     "ename": "IOError",
     "evalue": "[Errno 13] Permission denied: 'D:\\\\Projects\\\\X-Lab Symposium\\\\Data\\\\001_2016-09-04_1804.csv'",
     "output_type": "error",
     "traceback": [
      "\u001b[1;31m---------------------------------------------------------------------------\u001b[0m",
      "\u001b[1;31mIOError\u001b[0m                                   Traceback (most recent call last)",
      "\u001b[1;32m<ipython-input-12-efb0a3fc4855>\u001b[0m in \u001b[0;36m<module>\u001b[1;34m()\u001b[0m\n\u001b[0;32m     35\u001b[0m     trials.saveAsWideText(outfile + '.csv',\n\u001b[0;32m     36\u001b[0m                           \u001b[0mappendFile\u001b[0m\u001b[1;33m=\u001b[0m\u001b[0mFalse\u001b[0m\u001b[1;33m,\u001b[0m\u001b[1;33m\u001b[0m\u001b[0m\n\u001b[1;32m---> 37\u001b[1;33m                           fileCollisionMethod='overwrite')\n\u001b[0m\u001b[0;32m     38\u001b[0m \u001b[1;33m\u001b[0m\u001b[0m\n\u001b[0;32m     39\u001b[0m \u001b[0mcore\u001b[0m\u001b[1;33m.\u001b[0m\u001b[0mquit\u001b[0m\u001b[1;33m(\u001b[0m\u001b[1;33m)\u001b[0m\u001b[1;33m\u001b[0m\u001b[0m\n",
      "\u001b[1;32md:\\development\\psychopy\\psychopy\\data.pyc\u001b[0m in \u001b[0;36msaveAsWideText\u001b[1;34m(self, fileName, delim, matrixOnly, appendFile, encoding, fileCollisionMethod)\u001b[0m\n\u001b[0;32m   1311\u001b[0m         f = openOutputFile(\n\u001b[0;32m   1312\u001b[0m             \u001b[0mfileName\u001b[0m\u001b[1;33m,\u001b[0m \u001b[0mappend\u001b[0m\u001b[1;33m=\u001b[0m\u001b[0mappendFile\u001b[0m\u001b[1;33m,\u001b[0m \u001b[0mdelim\u001b[0m\u001b[1;33m=\u001b[0m\u001b[0mdelim\u001b[0m\u001b[1;33m,\u001b[0m\u001b[1;33m\u001b[0m\u001b[0m\n\u001b[1;32m-> 1313\u001b[1;33m             fileCollisionMethod=fileCollisionMethod, encoding=encoding)\n\u001b[0m\u001b[0;32m   1314\u001b[0m \u001b[1;33m\u001b[0m\u001b[0m\n\u001b[0;32m   1315\u001b[0m         \u001b[1;31m# collect parameter names related to the stimuli:\u001b[0m\u001b[1;33m\u001b[0m\u001b[1;33m\u001b[0m\u001b[0m\n",
      "\u001b[1;32md:\\development\\psychopy\\psychopy\\tools\\filetools.pyc\u001b[0m in \u001b[0;36mopenOutputFile\u001b[1;34m(fileName, append, delim, fileCollisionMethod, encoding)\u001b[0m\n\u001b[0;32m    143\u001b[0m         \u001b[0mlogging\u001b[0m\u001b[1;33m.\u001b[0m\u001b[0mwarning\u001b[0m\u001b[1;33m(\u001b[0m\u001b[1;34m'Data file, %s will be overwritten!'\u001b[0m \u001b[1;33m%\u001b[0m \u001b[0mfileName\u001b[0m\u001b[1;33m)\u001b[0m\u001b[1;33m\u001b[0m\u001b[0m\n\u001b[0;32m    144\u001b[0m \u001b[1;33m\u001b[0m\u001b[0m\n\u001b[1;32m--> 145\u001b[1;33m     \u001b[0mf\u001b[0m \u001b[1;33m=\u001b[0m \u001b[0mcodecs\u001b[0m\u001b[1;33m.\u001b[0m\u001b[0mopen\u001b[0m\u001b[1;33m(\u001b[0m\u001b[0mfileName\u001b[0m\u001b[1;33m,\u001b[0m \u001b[0mwriteFormat\u001b[0m\u001b[1;33m,\u001b[0m \u001b[0mencoding\u001b[0m\u001b[1;33m=\u001b[0m\u001b[0mencoding\u001b[0m\u001b[1;33m)\u001b[0m\u001b[1;33m\u001b[0m\u001b[0m\n\u001b[0m\u001b[0;32m    146\u001b[0m     \u001b[1;32mreturn\u001b[0m \u001b[0mf\u001b[0m\u001b[1;33m\u001b[0m\u001b[0m\n\u001b[0;32m    147\u001b[0m \u001b[1;33m\u001b[0m\u001b[0m\n",
      "\u001b[1;32mC:\\Users\\hoechenberger\\Anaconda32\\lib\\codecs.pyc\u001b[0m in \u001b[0;36mopen\u001b[1;34m(filename, mode, encoding, errors, buffering)\u001b[0m\n\u001b[0;32m    894\u001b[0m             \u001b[1;31m# Force opening of the file in binary mode\u001b[0m\u001b[1;33m\u001b[0m\u001b[1;33m\u001b[0m\u001b[0m\n\u001b[0;32m    895\u001b[0m             \u001b[0mmode\u001b[0m \u001b[1;33m=\u001b[0m \u001b[0mmode\u001b[0m \u001b[1;33m+\u001b[0m \u001b[1;34m'b'\u001b[0m\u001b[1;33m\u001b[0m\u001b[0m\n\u001b[1;32m--> 896\u001b[1;33m     \u001b[0mfile\u001b[0m \u001b[1;33m=\u001b[0m \u001b[0m__builtin__\u001b[0m\u001b[1;33m.\u001b[0m\u001b[0mopen\u001b[0m\u001b[1;33m(\u001b[0m\u001b[0mfilename\u001b[0m\u001b[1;33m,\u001b[0m \u001b[0mmode\u001b[0m\u001b[1;33m,\u001b[0m \u001b[0mbuffering\u001b[0m\u001b[1;33m)\u001b[0m\u001b[1;33m\u001b[0m\u001b[0m\n\u001b[0m\u001b[0;32m    897\u001b[0m     \u001b[1;32mif\u001b[0m \u001b[0mencoding\u001b[0m \u001b[1;32mis\u001b[0m \u001b[0mNone\u001b[0m\u001b[1;33m:\u001b[0m\u001b[1;33m\u001b[0m\u001b[0m\n\u001b[0;32m    898\u001b[0m         \u001b[1;32mreturn\u001b[0m \u001b[0mfile\u001b[0m\u001b[1;33m\u001b[0m\u001b[0m\n",
      "\u001b[1;31mIOError\u001b[0m: [Errno 13] Permission denied: 'D:\\\\Projects\\\\X-Lab Symposium\\\\Data\\\\001_2016-09-04_1804.csv'"
     ]
    }
   ],
   "source": [
    "for trial in trials:\n",
    "    image_file = os.path.join(stimulus_dir, trial['pic'])\n",
    "    image.image = image_file\n",
    "    \n",
    "    for i in range(120):\n",
    "        fixation.draw()\n",
    "        win.flip()\n",
    "        \n",
    "    event.clearEvents()\n",
    "    win.callOnFlip(clock.reset)\n",
    "    for i in range(30):\n",
    "        image.draw()\n",
    "        win.flip()\n",
    "    \n",
    "    for i in range(90):\n",
    "        win.flip()\n",
    "    \n",
    "    keypresses = event.getKeys(keyList=['m', 'x', 'escape'],\n",
    "                               timeStamped=clock)\n",
    "\n",
    "    if keypresses:\n",
    "        response_key, rt = keypresses[0]\n",
    "\n",
    "        if response_key == 'escape':\n",
    "            core.quit()\n",
    "        elif response_key == trial['correct_response']:\n",
    "            response_correct = True\n",
    "        else:\n",
    "            response_correct = False\n",
    "    else:\n",
    "        response_key = None\n",
    "        rt = None\n",
    "        response_correct = False\n",
    "        \n",
    "    trials.addData('response_key', response_key)\n",
    "    trials.addData('rt', rt)\n",
    "    trials.addData('response_correct', response_correct)\n",
    "    \n",
    "    trials.saveAsWideText(outfile + '.csv',\n",
    "                          appendFile=False,\n",
    "                          fileCollisionMethod='overwrite')\n",
    "\n",
    "core.quit()\n",
    "  "
   ]
  },
  {
   "cell_type": "code",
   "execution_count": 13,
   "metadata": {
    "collapsed": false
   },
   "outputs": [
    {
     "name": "stdout",
     "output_type": "stream",
     "text": [
      "4.0541 \tWARNING \tMonitor specification not found. Creating a temporary one...\n",
      "17.6711 \tWARNING \tData file, D:\\Projects\\X-Lab Symposium\\Data\\001_2016-09-04_1804.csv, will be overwritten\n",
      "17.6711 \tWARNING \tData file, D:\\Projects\\X-Lab Symposium\\Data\\001_2016-09-04_1804.csv will be overwritten!\n",
      "22.1120 \tWARNING \tData file, D:\\Projects\\X-Lab Symposium\\Data\\001_2016-09-04_1804.csv, will be overwritten\n",
      "22.1121 \tWARNING \tData file, D:\\Projects\\X-Lab Symposium\\Data\\001_2016-09-04_1804.csv will be overwritten!\n",
      "26.5701 \tWARNING \tData file, D:\\Projects\\X-Lab Symposium\\Data\\001_2016-09-04_1804.csv, will be overwritten\n",
      "26.5702 \tWARNING \tData file, D:\\Projects\\X-Lab Symposium\\Data\\001_2016-09-04_1804.csv will be overwritten!\n",
      "31.0147 \tWARNING \tData file, D:\\Projects\\X-Lab Symposium\\Data\\001_2016-09-04_1804.csv, will be overwritten\n",
      "31.0148 \tWARNING \tData file, D:\\Projects\\X-Lab Symposium\\Data\\001_2016-09-04_1804.csv will be overwritten!\n"
     ]
    }
   ],
   "source": [
    "win.close()\n"
   ]
  },
  {
   "cell_type": "code",
   "execution_count": null,
   "metadata": {
    "collapsed": true
   },
   "outputs": [],
   "source": []
  }
 ],
 "metadata": {
  "celltoolbar": "Raw Cell Format",
  "kernelspec": {
   "display_name": "Python 2",
   "language": "python",
   "name": "python2"
  },
  "language_info": {
   "codemirror_mode": {
    "name": "ipython",
    "version": 2
   },
   "file_extension": ".py",
   "mimetype": "text/x-python",
   "name": "python",
   "nbconvert_exporter": "python",
   "pygments_lexer": "ipython2",
   "version": "2.7.11"
  }
 },
 "nbformat": 4,
 "nbformat_minor": 0
}
