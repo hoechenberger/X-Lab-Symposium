{
 "cells": [
  {
   "cell_type": "markdown",
   "metadata": {},
   "source": [
    "# X-Lab Symposium 2016: Python Introduction\n",
    "\n",
    "## What is Python, anyway?\n",
    "\n",
    "* Python is a high-level, general-purpose programming language.\n",
    "* It is also the name of the Python interpreter.\n",
    "* Created by Guido von Rossum, work started back in the late 1980s!\n",
    "* First released in 1991.\n",
    "* Guido is now *BDFL* (benevolent dictator for life).\n",
    "![Ada](Figures/Ada.png)"
   ]
  },
  {
   "cell_type": "markdown",
   "metadata": {},
   "source": [
    "## The Zen of Python"
   ]
  },
  {
   "cell_type": "code",
   "execution_count": null,
   "metadata": {
    "collapsed": false
   },
   "outputs": [],
   "source": [
    "import this"
   ]
  },
  {
   "cell_type": "markdown",
   "metadata": {},
   "source": [
    "* \"To describe something as clever is not considered a compliment in the Python culture.\" (Alex Martelli)\n",
    "* Code that follows these guidelines and common Python idioms is often referred to as being *pythonic*."
   ]
  },
  {
   "cell_type": "markdown",
   "metadata": {},
   "source": [
    "## Why you should use Python in Science\n",
    "![Author Count](Figures/Author Count.png)\n",
    "\n",
    "## Why you may *not* want to use Python in Science"
   ]
  },
  {
   "cell_type": "markdown",
   "metadata": {},
   "source": [
    "## Getting Python\n",
    "Often, people would go to [python.org](https://www.python.org/) and fetch a Python installation package from there. The problem with this approach is that this will only get you the very, very essential core components of the Python environment, or actually, no \"real\" environment at all!\n",
    "\n",
    "For scientific use, you will most likely want to install the [Anaconda Python](https://www.continuum.io/downloads) distribution, which ships with almost everything you will need when working with Python. We will be working with **32-bit Python 2.7**.\n",
    "\n",
    "## Starting Python\n",
    "For interactive exploration of Python, we will be using the [Jupyter Notebook](http://jupyter.org/), which comes with Anaconda. To run it, either execute `jupyter notebook` from a terminal, or use the respective icon in your Start menu or application folder."
   ]
  },
  {
   "cell_type": "markdown",
   "metadata": {},
   "source": [
    "## Python 101\n",
    "\n",
    "### Simple Maths"
   ]
  },
  {
   "cell_type": "code",
   "execution_count": null,
   "metadata": {
    "collapsed": false
   },
   "outputs": [],
   "source": [
    "1 + 1"
   ]
  },
  {
   "cell_type": "code",
   "execution_count": null,
   "metadata": {
    "collapsed": false
   },
   "outputs": [],
   "source": [
    "a = 2\n",
    "a = a - 1\n",
    "a"
   ]
  },
  {
   "cell_type": "code",
   "execution_count": null,
   "metadata": {
    "collapsed": false
   },
   "outputs": [],
   "source": [
    "a = 2\n",
    "a -= 1\n",
    "a"
   ]
  },
  {
   "cell_type": "markdown",
   "metadata": {},
   "source": [
    "### Lists\n",
    "Lists are a very basic Python data type, somewhat similar to a vector or a one-dimensional matrix in other languages.\n",
    "\n",
    "#### List creation"
   ]
  },
  {
   "cell_type": "code",
   "execution_count": null,
   "metadata": {
    "collapsed": false
   },
   "outputs": [],
   "source": [
    "l = [1, 2, 3, 4]\n",
    "l"
   ]
  },
  {
   "cell_type": "markdown",
   "metadata": {},
   "source": [
    "#### List indexing"
   ]
  },
  {
   "cell_type": "code",
   "execution_count": null,
   "metadata": {
    "collapsed": false
   },
   "outputs": [],
   "source": [
    "l[0]  # Python indexing is 0-based!"
   ]
  },
  {
   "cell_type": "code",
   "execution_count": null,
   "metadata": {
    "collapsed": false
   },
   "outputs": [],
   "source": [
    "l[1]  # Second element in the list."
   ]
  },
  {
   "cell_type": "code",
   "execution_count": null,
   "metadata": {
    "collapsed": false
   },
   "outputs": [],
   "source": [
    "l[-1]  # Last element in the list. Indices \"wrap around\"."
   ]
  },
  {
   "cell_type": "markdown",
   "metadata": {},
   "source": [
    "#### Changing the value of a list element"
   ]
  },
  {
   "cell_type": "code",
   "execution_count": null,
   "metadata": {
    "collapsed": false
   },
   "outputs": [],
   "source": [
    "l[-1] = 9\n",
    "l"
   ]
  },
  {
   "cell_type": "markdown",
   "metadata": {},
   "source": [
    "#### Creating a list of a sequence of integers"
   ]
  },
  {
   "cell_type": "code",
   "execution_count": null,
   "metadata": {
    "collapsed": false
   },
   "outputs": [],
   "source": [
    "range(10)"
   ]
  },
  {
   "cell_type": "code",
   "execution_count": null,
   "metadata": {
    "collapsed": false
   },
   "outputs": [],
   "source": [
    "range(1, 10)"
   ]
  },
  {
   "cell_type": "markdown",
   "metadata": {},
   "source": [
    "#### Extending a list"
   ]
  },
  {
   "cell_type": "code",
   "execution_count": null,
   "metadata": {
    "collapsed": false
   },
   "outputs": [],
   "source": [
    "l = [1, 2, 3]\n",
    "l.append(4)\n",
    "l"
   ]
  },
  {
   "cell_type": "code",
   "execution_count": null,
   "metadata": {
    "collapsed": false
   },
   "outputs": [],
   "source": [
    "l1 = [1, 2, 3]\n",
    "l2 = [4, 5, 6]\n",
    "\n",
    "l1.append(l2)\n",
    "l1"
   ]
  },
  {
   "cell_type": "code",
   "execution_count": null,
   "metadata": {
    "collapsed": false
   },
   "outputs": [],
   "source": [
    "l1 = [1, 2, 3]\n",
    "l2 = [4, 5, 6]\n",
    "\n",
    "l1.extend(l2)\n",
    "l1"
   ]
  },
  {
   "cell_type": "markdown",
   "metadata": {},
   "source": [
    "### Tuples\n",
    "Tuples are like lists, but they are *immutable*."
   ]
  },
  {
   "cell_type": "code",
   "execution_count": null,
   "metadata": {
    "collapsed": true
   },
   "outputs": [],
   "source": [
    "l = [1, 2, 3]  # list\n",
    "t = (1, 2, 3)  # tuple"
   ]
  },
  {
   "cell_type": "code",
   "execution_count": null,
   "metadata": {
    "collapsed": false
   },
   "outputs": [],
   "source": [
    "l[0] = 10\n",
    "l"
   ]
  },
  {
   "cell_type": "code",
   "execution_count": null,
   "metadata": {
    "collapsed": false
   },
   "outputs": [],
   "source": [
    "t[0] = 10"
   ]
  },
  {
   "cell_type": "markdown",
   "metadata": {},
   "source": [
    "### Dictionaries (\"dicts\")"
   ]
  },
  {
   "cell_type": "code",
   "execution_count": null,
   "metadata": {
    "collapsed": false
   },
   "outputs": [],
   "source": [
    "d = {'foo': 1, 'bar': 2}\n",
    "d['foo']"
   ]
  },
  {
   "cell_type": "code",
   "execution_count": null,
   "metadata": {
    "collapsed": false
   },
   "outputs": [],
   "source": [
    "d = dict(foo=1, bar=2)\n",
    "d['foo']"
   ]
  },
  {
   "cell_type": "markdown",
   "metadata": {},
   "source": [
    "### Printing output"
   ]
  },
  {
   "cell_type": "code",
   "execution_count": null,
   "metadata": {
    "collapsed": false
   },
   "outputs": [],
   "source": [
    "print 'Hello World!'  # Python 2.7"
   ]
  },
  {
   "cell_type": "code",
   "execution_count": null,
   "metadata": {
    "collapsed": false
   },
   "outputs": [],
   "source": [
    "# Better, and more future-proof:\n",
    "from __future__ import print_function\n",
    "\n",
    "print('Hello World!')"
   ]
  },
  {
   "cell_type": "code",
   "execution_count": null,
   "metadata": {
    "collapsed": false
   },
   "outputs": [],
   "source": [
    "hello_string = 'Hello'\n",
    "world_string = 'World'\n",
    "\n",
    "print('{0} {1}!'\n",
    "      .format(hello_string, world_string))"
   ]
  },
  {
   "cell_type": "code",
   "execution_count": null,
   "metadata": {
    "collapsed": false
   },
   "outputs": [],
   "source": [
    "print('{hello} {world}!'\n",
    "      .format(hello=hello_string, world=world_string))"
   ]
  },
  {
   "cell_type": "markdown",
   "metadata": {},
   "source": [
    "### `if` statements and Booleans"
   ]
  },
  {
   "cell_type": "code",
   "execution_count": null,
   "metadata": {
    "collapsed": false
   },
   "outputs": [],
   "source": [
    "a = True\n",
    "b = False\n",
    "\n",
    "# Simple.\n",
    "if a:\n",
    "    print('a is True')\n",
    "\n",
    "# A little more complex.\n",
    "if b:\n",
    "    print('b is True')\n",
    "else:\n",
    "    print('b is False')\n",
    "\n",
    "# Heeere we go.\n",
    "if not a:\n",
    "    print('a is not True')\n",
    "elif b and not a:\n",
    "    print('b is True, a is not')\n",
    "else:\n",
    "    print('This message reflects my lack of creativity.')"
   ]
  },
  {
   "cell_type": "markdown",
   "metadata": {},
   "source": [
    "### Fancy loops!\n",
    "\n",
    "#### `for` loops"
   ]
  },
  {
   "cell_type": "code",
   "execution_count": null,
   "metadata": {
    "collapsed": false
   },
   "outputs": [],
   "source": [
    "participants = [1, 3, 5, 9, 10]\n",
    "\n",
    "for participant in participants:\n",
    "    print('Currently processing participant {p}'\n",
    "          .format(p=participant))\n"
   ]
  },
  {
   "cell_type": "code",
   "execution_count": null,
   "metadata": {
    "collapsed": false
   },
   "outputs": [],
   "source": [
    "for iteration, participant in enumerate(participants):\n",
    "    print('Loop {i}: Currently processing participant {p}'\n",
    "          .format(i=iteration, p=participant))\n"
   ]
  },
  {
   "cell_type": "code",
   "execution_count": null,
   "metadata": {
    "collapsed": false
   },
   "outputs": [],
   "source": [
    "for iteration, participant in enumerate(participants, start=1):\n",
    "    print('Loop {i}: Currently processing participant {p}'\n",
    "          .format(i=iteration, p=participant))\n"
   ]
  },
  {
   "cell_type": "markdown",
   "metadata": {},
   "source": [
    "#### `while` loops"
   ]
  },
  {
   "cell_type": "code",
   "execution_count": null,
   "metadata": {
    "collapsed": false
   },
   "outputs": [],
   "source": [
    "a = 10\n",
    "\n",
    "while a >= 0:\n",
    "    print('Current value of a: {a}'\n",
    "          .format(a=a))\n",
    "    a -= 1\n"
   ]
  },
  {
   "cell_type": "code",
   "execution_count": null,
   "metadata": {
    "collapsed": false,
    "scrolled": true
   },
   "outputs": [],
   "source": [
    "a = 10\n",
    "\n",
    "while True:  # Loop infinitely.\n",
    "    print('Current value of a: {a}'\n",
    "          .format(a=a))\n",
    "    a -= 1\n",
    "    \n",
    "    if a < 0:\n",
    "        break  # Exit the loop.\n",
    "    else:\n",
    "        pass  # Keep on looping! This statement is actually totally superfluous here... Oh well!"
   ]
  },
  {
   "cell_type": "markdown",
   "metadata": {},
   "source": [
    "### Simple Functions"
   ]
  },
  {
   "cell_type": "code",
   "execution_count": null,
   "metadata": {
    "collapsed": true
   },
   "outputs": [],
   "source": [
    "def f(x, y):\n",
    "    result = x * y\n",
    "    return result"
   ]
  },
  {
   "cell_type": "code",
   "execution_count": null,
   "metadata": {
    "collapsed": false
   },
   "outputs": [],
   "source": [
    "f(2, 3)"
   ]
  },
  {
   "cell_type": "code",
   "execution_count": null,
   "metadata": {
    "collapsed": false
   },
   "outputs": [],
   "source": [
    "f(x=2, y=3)"
   ]
  },
  {
   "cell_type": "code",
   "execution_count": null,
   "metadata": {
    "collapsed": false
   },
   "outputs": [],
   "source": [
    "f(y=3, x=2)"
   ]
  },
  {
   "cell_type": "code",
   "execution_count": null,
   "metadata": {
    "collapsed": false
   },
   "outputs": [],
   "source": [
    "f(x=1)"
   ]
  },
  {
   "cell_type": "markdown",
   "metadata": {},
   "source": [
    "### Simple Functions with Optional (Keyword) Arguments"
   ]
  },
  {
   "cell_type": "code",
   "execution_count": null,
   "metadata": {
    "collapsed": true
   },
   "outputs": [],
   "source": [
    "def f2(x=2, y=3):\n",
    "    result = x * y\n",
    "    return result"
   ]
  },
  {
   "cell_type": "code",
   "execution_count": null,
   "metadata": {
    "collapsed": false
   },
   "outputs": [],
   "source": [
    "f2(x=1)"
   ]
  },
  {
   "cell_type": "markdown",
   "metadata": {},
   "source": [
    "### Simple OOP Example"
   ]
  },
  {
   "cell_type": "code",
   "execution_count": null,
   "metadata": {
    "collapsed": false
   },
   "outputs": [],
   "source": [
    "class Participant(object):  # So-called new-style classes always inherit from 'object'.\n",
    "    def __init__(self, id=None, age=None, handedness=None, gender=None):\n",
    "        self.id = id\n",
    "        self.age = age\n",
    "        self.handedness = handedness\n",
    "        self.gender = gender\n",
    "\n",
    "p1 = Participant(id=1, age=27, handedness='left', gender='female')\n",
    "p2 = Participant(id=2, age=22, handedness='right', gender='male')\n",
    "\n",
    "participants = [p1, p2]\n",
    "participants\n"
   ]
  },
  {
   "cell_type": "code",
   "execution_count": null,
   "metadata": {
    "collapsed": false,
    "scrolled": true
   },
   "outputs": [],
   "source": [
    "for participant in participants:\n",
    "    print(participant.age)"
   ]
  },
  {
   "cell_type": "markdown",
   "metadata": {},
   "source": [
    "### Modules, packages, and namespaces\n",
    "* A Python *module* is a single Python file that commonly contains one or more functions.\n",
    "* A Python *package* is a set of one or more modules placed in a dedicated directory, together with an `__init__.py` file (which magically turns that directory into a package root)\n",
    "\n",
    "To use a package or module, you have to `import` them first."
   ]
  },
  {
   "cell_type": "code",
   "execution_count": null,
   "metadata": {
    "collapsed": true
   },
   "outputs": [],
   "source": [
    "import numpy"
   ]
  },
  {
   "cell_type": "code",
   "execution_count": null,
   "metadata": {
    "collapsed": false
   },
   "outputs": [],
   "source": [
    "a = numpy.array([1, 2, 3])\n",
    "a"
   ]
  },
  {
   "cell_type": "code",
   "execution_count": null,
   "metadata": {
    "collapsed": true
   },
   "outputs": [],
   "source": [
    "import numpy as np  # \"Standard\" import for NumPy.\n",
    "\n",
    "a = np.array([1, 2, 3])\n",
    "a"
   ]
  },
  {
   "cell_type": "code",
   "execution_count": null,
   "metadata": {
    "collapsed": false
   },
   "outputs": [],
   "source": [
    "from numpy import array  # Also works, but generally discouraged.\n",
    "\n",
    "a = array([1, 2, 3])\n",
    "a"
   ]
  },
  {
   "cell_type": "markdown",
   "metadata": {},
   "source": [
    "Unlike Matlab, Python `import`s typically do not clutter the global namespace, and if they do, you can easily figure out where a specific function or object came from (by finding the `from foo import bar` line)."
   ]
  },
  {
   "cell_type": "markdown",
   "metadata": {},
   "source": [
    "### Basic Plotting"
   ]
  },
  {
   "cell_type": "code",
   "execution_count": null,
   "metadata": {
    "collapsed": true
   },
   "outputs": [],
   "source": [
    "%matplotlib inline"
   ]
  },
  {
   "cell_type": "code",
   "execution_count": null,
   "metadata": {
    "collapsed": false
   },
   "outputs": [],
   "source": [
    "import numpy as np\n",
    "import matplotlib.pyplot as plt\n",
    "\n",
    "x = np.linspace(start=0, stop=50, num=5000)\n",
    "y = np.sin(x)\n",
    "\n",
    "plt.plot(x, y, linewidth=2, color='red')\n",
    "plt.grid()\n",
    "plt.xlabel('x')\n",
    "plt.ylabel('y')\n",
    "plt.title('Simple Plot')"
   ]
  },
  {
   "cell_type": "code",
   "execution_count": null,
   "metadata": {
    "collapsed": false
   },
   "outputs": [],
   "source": [
    "import numpy as np\n",
    "from bokeh.plotting import figure, show\n",
    "from bokeh.io import output_notebook\n",
    "\n",
    "x = np.linspace(start=0, stop=50, num=5000)\n",
    "y = np.sin(x)\n",
    "\n",
    "output_notebook()\n",
    "p = figure()\n",
    "p.line(x, y, line_color='red', line_width=3)\n",
    "show(p)"
   ]
  },
  {
   "cell_type": "markdown",
   "metadata": {},
   "source": [
    "## PsychoPy Code Introduction"
   ]
  },
  {
   "cell_type": "code",
   "execution_count": null,
   "metadata": {
    "collapsed": true
   },
   "outputs": [],
   "source": [
    "from psychopy import core, data, event, gui, visual"
   ]
  },
  {
   "cell_type": "code",
   "execution_count": null,
   "metadata": {
    "collapsed": false
   },
   "outputs": [],
   "source": [
    "exp_info = dict(participant='001', age=30, handedness=['right', 'left', 'both'],\n",
    "                date=data.getDateStr(format='%Y-%m-%d_%H%M'))\n",
    "\n",
    "r = gui.DlgFromDict(exp_info)\n",
    "if not r.OK:\n",
    "    raise RuntimeError('Info dialog canceled.')\n",
    "\n",
    "print(exp_info)"
   ]
  },
  {
   "cell_type": "code",
   "execution_count": null,
   "metadata": {
    "collapsed": false
   },
   "outputs": [],
   "source": [
    "from collections import OrderedDict\n",
    "\n",
    "exp_info = OrderedDict()\n",
    "exp_info['participant'] = '001'\n",
    "exp_info['age'] = 30\n",
    "exp_info['handedness'] = ['right', 'left', 'both']\n",
    "exp_info['date'] = data.getDateStr(format='%Y-%m-%d_%H%M') \n",
    "\n",
    "r = gui.DlgFromDict(exp_info, order=exp_info.keys())\n",
    "if not r.OK:\n",
    "    raise RuntimeError('Info dialog canceled.')\n",
    "\n",
    "print(exp_info)"
   ]
  },
  {
   "cell_type": "code",
   "execution_count": null,
   "metadata": {
    "collapsed": false
   },
   "outputs": [],
   "source": [
    "import os\n",
    "\n",
    "base_dir =  os.path.normpath('D:/Projects/X-Lab Symposium')\n",
    "stimulus_dir = os.path.join(base_dir, 'Stimuli')\n",
    "data_dir = os.path.join(base_dir, 'Data')\n",
    "\n",
    "conditions_file = os.path.join(base_dir, 'conditions.xlsx')\n",
    "outfile = os.path.join(\n",
    "    data_dir,\n",
    "    '{participant}_{date}'.format(participant=exp_info['participant'], date=exp_info['date']))"
   ]
  },
  {
   "cell_type": "markdown",
   "metadata": {},
   "source": [
    "### Define experimental conditions & trials"
   ]
  },
  {
   "cell_type": "code",
   "execution_count": null,
   "metadata": {
    "collapsed": true
   },
   "outputs": [],
   "source": [
    "conditions = [\n",
    "    dict(condition=1, ori=1),\n",
    "    dict(condition=2, ori=3)\n",
    "]"
   ]
  },
  {
   "cell_type": "code",
   "execution_count": null,
   "metadata": {
    "collapsed": false
   },
   "outputs": [],
   "source": [
    "conditions = data.importConditions(conditions_file)"
   ]
  },
  {
   "cell_type": "code",
   "execution_count": null,
   "metadata": {
    "collapsed": false
   },
   "outputs": [],
   "source": [
    "conditions"
   ]
  },
  {
   "cell_type": "code",
   "execution_count": null,
   "metadata": {
    "collapsed": false
   },
   "outputs": [],
   "source": [
    "trials = data.TrialHandler(conditions, nReps=5, extraInfo=exp_info)"
   ]
  },
  {
   "cell_type": "markdown",
   "metadata": {},
   "source": [
    "### Create a window"
   ]
  },
  {
   "cell_type": "code",
   "execution_count": null,
   "metadata": {
    "collapsed": false,
    "scrolled": true
   },
   "outputs": [],
   "source": [
    "win = visual.Window(fullscr=False, allowGUI=True, pos=(1400, 500))\n",
    "# win = visual.Window(fullscr=True)"
   ]
  },
  {
   "cell_type": "markdown",
   "metadata": {},
   "source": [
    "### Define stimuli"
   ]
  },
  {
   "cell_type": "code",
   "execution_count": null,
   "metadata": {
    "collapsed": true
   },
   "outputs": [],
   "source": [
    "fixation = visual.TextStim(win, text='+')\n",
    "image = visual.ImageStim(win)"
   ]
  },
  {
   "cell_type": "markdown",
   "metadata": {},
   "source": [
    "### Trial clock"
   ]
  },
  {
   "cell_type": "code",
   "execution_count": null,
   "metadata": {
    "collapsed": true
   },
   "outputs": [],
   "source": [
    "clock = core.Clock()"
   ]
  },
  {
   "cell_type": "markdown",
   "metadata": {},
   "source": [
    "### The actual trial"
   ]
  },
  {
   "cell_type": "code",
   "execution_count": null,
   "metadata": {
    "collapsed": false,
    "scrolled": true
   },
   "outputs": [],
   "source": [
    "for trial in trials:\n",
    "    image_file = os.path.join(stimulus_dir, trial['pic'])\n",
    "    image.image = image_file\n",
    "    \n",
    "    for i in range(120):\n",
    "        fixation.draw()\n",
    "        win.flip()\n",
    "        \n",
    "    event.clearEvents()\n",
    "    win.callOnFlip(clock.reset)\n",
    "    for i in range(30):\n",
    "        image.draw()\n",
    "        win.flip()\n",
    "    \n",
    "    for i in range(90):\n",
    "        win.flip()\n",
    "    \n",
    "    keypresses = event.getKeys(keyList=['m', 'x', 'escape'],\n",
    "                               timeStamped=clock)\n",
    "\n",
    "    if keypresses:\n",
    "        response_key, rt = keypresses[0]\n",
    "\n",
    "        if response_key == 'escape':\n",
    "            core.quit()\n",
    "        elif response_key == trial['correct_response']:\n",
    "            response_correct = True\n",
    "        else:\n",
    "            response_correct = False\n",
    "    else:\n",
    "        response_key = None\n",
    "        rt = None\n",
    "        response_correct = False\n",
    "        \n",
    "    trials.addData('response_key', response_key)\n",
    "    trials.addData('rt', rt)\n",
    "    trials.addData('response_correct', response_correct)\n",
    "    \n",
    "    trials.saveAsWideText(outfile + '.csv',\n",
    "                          appendFile=False,\n",
    "                          fileCollisionMethod='overwrite')\n",
    "\n",
    "core.quit()\n",
    "  "
   ]
  },
  {
   "cell_type": "code",
   "execution_count": null,
   "metadata": {
    "collapsed": false
   },
   "outputs": [],
   "source": [
    "win.close()\n"
   ]
  },
  {
   "cell_type": "code",
   "execution_count": null,
   "metadata": {
    "collapsed": true
   },
   "outputs": [],
   "source": []
  }
 ],
 "metadata": {
  "celltoolbar": "Raw Cell Format",
  "kernelspec": {
   "display_name": "Python 2",
   "language": "python",
   "name": "python2"
  },
  "language_info": {
   "codemirror_mode": {
    "name": "ipython",
    "version": 2
   },
   "file_extension": ".py",
   "mimetype": "text/x-python",
   "name": "python",
   "nbconvert_exporter": "python",
   "pygments_lexer": "ipython2",
   "version": "2.7.11"
  }
 },
 "nbformat": 4,
 "nbformat_minor": 0
}
